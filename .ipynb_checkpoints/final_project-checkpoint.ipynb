{
 "cells": [
  {
   "cell_type": "code",
   "execution_count": 1,
   "metadata": {},
   "outputs": [],
   "source": [
    "import requests,webbrowser\n",
    "from bs4 import BeautifulSoup\n",
    "import re\n",
    "import pandas as pd\n",
    "import numpy as np\n",
    "import matplotlib.pyplot as plt\n"
   ]
  },
  {
   "cell_type": "code",
   "execution_count": null,
   "metadata": {},
   "outputs": [],
   "source": [
    "user_input= input(\"enter something to search:\")\n",
    "print(\"googling........\")\n",
    "google_search = requests.get(\"https://www.google.com/search?q=\"+user_input)\n",
    "soup=BeautifulSoup(google_search.text, 'html.parser')\n",
    "#print(soup.prettify())\n",
    "#soup= BeautifulSoup(google_search.text,'html.parser')\n",
    "search_results = soup.find_all('div',class_='BNeawe UPmit AP7Wnd')\n",
    "#print(search_results)\n",
    "#print(search_results)\n"
   ]
  },
  {
   "cell_type": "code",
   "execution_count": null,
   "metadata": {},
   "outputs": [],
   "source": [
    "for link in soup.find_all('a',class_=\"BVG0Nb\"):\n",
    "    print(link.get('href'))"
   ]
  },
  {
   "cell_type": "code",
   "execution_count": null,
   "metadata": {},
   "outputs": [],
   "source": [
    "y=[]\n",
    "for link in soup.find_all('div',class_=\"BNeawe UPmit AP7Wnd\"):\n",
    "    links=link.get_text('href')\n",
    "    y.append(links)\n",
    "print(y)\n",
    "    \n",
    "\n",
    "linkss = pd.DataFrame(y,columns=['link'])\n",
    "linkss.to_csv('links.csv')"
   ]
  },
  {
   "cell_type": "code",
   "execution_count": null,
   "metadata": {},
   "outputs": [],
   "source": [
    "x=[]\n",
    "for link in soup.find_all('div',class_=\"BNeawe s3v9rd AP7Wnd\"):\n",
    "    actual=link.get_text()\n",
    "    sentences = re.split(r' *[\\.\\?!][\\'\"\\)\\]]* *', actual)\n",
    "    for stuff in sentences:\n",
    "        x.append(stuff)\n",
    "    print(x)\n",
    "df = pd.DataFrame(x,columns=['review'])\n",
    "df.to_csv('sentis.csv')\n",
    "\n",
    "        "
   ]
  }
 ],
 "metadata": {
  "kernelspec": {
   "display_name": "Python 3",
   "language": "python",
   "name": "python3"
  },
  "language_info": {
   "codemirror_mode": {
    "name": "ipython",
    "version": 3
   },
   "file_extension": ".py",
   "mimetype": "text/x-python",
   "name": "python",
   "nbconvert_exporter": "python",
   "pygments_lexer": "ipython3",
   "version": "3.7.1"
  }
 },
 "nbformat": 4,
 "nbformat_minor": 2
}
