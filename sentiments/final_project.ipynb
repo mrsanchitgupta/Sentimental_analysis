{
 "cells": [
  {
   "cell_type": "code",
   "execution_count": 6,
   "metadata": {},
   "outputs": [],
   "source": [
    "import requests,webbrowser\n",
    "from bs4 import BeautifulSoup\n",
    "import re\n",
    "import pandas as pd\n",
    "import numpy as np\n",
    "import matplotlib.pyplot as plt\n"
   ]
  },
  {
   "cell_type": "code",
   "execution_count": 7,
   "metadata": {},
   "outputs": [
    {
     "name": "stdout",
     "output_type": "stream",
     "text": [
      "enter something to search:vidushi bindroo\n",
      "googling........\n"
     ]
    }
   ],
   "source": [
    "user_input= input(\"enter something to search:\")\n",
    "print(\"googling........\")\n",
    "google_search = requests.get(\"https://www.google.com/search?q=\"+user_input)\n",
    "soup=BeautifulSoup(google_search.text, 'html.parser')\n",
    "#print(soup.prettify())\n",
    "#soup= BeautifulSoup(google_search.text,'html.parser')\n",
    "search_results = soup.find_all('div',class_='BNeawe UPmit AP7Wnd')\n",
    "#print(search_results)\n",
    "#print(search_results)\n"
   ]
  },
  {
   "cell_type": "code",
   "execution_count": 8,
   "metadata": {},
   "outputs": [
    {
     "name": "stdout",
     "output_type": "stream",
     "text": [
      "https://www.google.com/imgres?imgurl=https://i.pinimg.com/564x/1b/82/61/1b82615098b214fc69120706d7139845.jpg&imgrefurl=https://www.pinterest.com/bindroomuskan7/&h=535&w=563&tbnid=BseibA6khWsuZM:&q=vidushi+bindroo&tbnh=90&tbnw=94&usg=AI4_-kQi0L0jThPRtlgVeRr2T7rtDR-AxA&vet=1&docid=5sA43JW6_0-16M&sa=X&ved=2ahUKEwjG1r_EkojnAhWiyzgGHUmdA6AQ9QEwCXoECAkQBA\n",
      "https://www.google.com/imgres?imgurl=https://i.pinimg.com/564x/fe/54/62/fe546298c4101a20b7316b737cdfe612.jpg&imgrefurl=https://www.pinterest.com/bindroomuskan7/&h=564&w=564&tbnid=m5dM13pOo5APnM:&q=vidushi+bindroo&tbnh=90&tbnw=90&usg=AI4_-kSuAnaK2Q5Au1pNtkwN0APfN9E6Tw&vet=1&docid=5sA43JW6_0-16M&sa=X&ved=2ahUKEwjG1r_EkojnAhWiyzgGHUmdA6AQ9QEwCnoECAkQBg\n",
      "https://www.google.com/imgres?imgurl=https://devfolio.sgp1.digitaloceanspaces.com/hackathons/0548e44d6aa3432ebd3e9a6bc4d96974/projects/60822227823a4d189872a7c709c3b6c0/pic0.jpeg&imgrefurl=https://devfolio.co/submissions/studentsgo&h=1280&w=720&tbnid=7HoXu6yeF1xBAM:&q=vidushi+bindroo&tbnh=90&tbnw=50&usg=AI4_-kQ6YATf0pjC8Uo7fpdaczf21YikKw&vet=1&docid=wBXm_rs8hGEYtM&sa=X&ved=2ahUKEwjG1r_EkojnAhWiyzgGHUmdA6AQ9QEwC3oECAkQCA\n",
      "https://www.google.com/imgres?imgurl=https://i.pinimg.com/564x/bb/41/03/bb4103dbcfe9225ca853313e49be879c.jpg&imgrefurl=https://www.pinterest.com/bindroomuskan7/&h=473&w=500&tbnid=dzIxmPjG_mJBDM:&q=vidushi+bindroo&tbnh=90&tbnw=95&usg=AI4_-kRYtAWox6_v-tgsnM5w-MIRVPysWg&vet=1&docid=5sA43JW6_0-16M&sa=X&ved=2ahUKEwjG1r_EkojnAhWiyzgGHUmdA6AQ9QEwDHoECAkQCg\n",
      "https://www.google.com/imgres?imgurl=https://i.pinimg.com/400x300/8a/52/70/8a527004093e685e7e56d1df5d5ccc52.jpg&imgrefurl=https://www.pinterest.com/bindroomuskan7/&h=300&w=400&tbnid=kQ2D7ScKEeklAM:&q=vidushi+bindroo&tbnh=90&tbnw=120&usg=AI4_-kSsO39-kHL7xmF9c78toEjqKKbyMQ&vet=1&docid=5sA43JW6_0-16M&sa=X&ved=2ahUKEwjG1r_EkojnAhWiyzgGHUmdA6AQ9QEwDXoECAkQDA\n",
      "https://www.google.com/imgres?imgurl=https://devfolio.sgp1.digitaloceanspaces.com/hackathons/0548e44d6aa3432ebd3e9a6bc4d96974/projects/60822227823a4d189872a7c709c3b6c0/pic3.jpeg&imgrefurl=https://devfolio.co/submissions/studentsgo&h=720&w=1280&tbnid=BA1aBsyc5nV14M:&q=vidushi+bindroo&tbnh=90&tbnw=160&usg=AI4_-kSo0z9AQlH2zzt5Wtncc9ZHksdIMQ&vet=1&docid=wBXm_rs8hGEYtM&sa=X&ved=2ahUKEwjG1r_EkojnAhWiyzgGHUmdA6AQ9QEwDnoECAkQDg\n"
     ]
    }
   ],
   "source": [
    "for link in soup.find_all('a',class_=\"BVG0Nb\"):\n",
    "    print(link.get('href'))"
   ]
  },
  {
   "cell_type": "code",
   "execution_count": 9,
   "metadata": {},
   "outputs": [
    {
     "name": "stdout",
     "output_type": "stream",
     "text": [
      "['https://in.linkedin.com › vidushi-bindroo-642858175', 'https://www.instagram.com › vidushibindroo', 'https://in.pinterest.com › bindroomuskan7', 'https://www.kaggle.com › vidushi7', 'https://www.tcyonline.com › profile › vidushi-bindroo', 'https://www.tcyonline.com › profile › Vidushi-Bindroo › myfriends', 'https://en-gb.facebook.com › appteam.nith › posts › congratulations-to-all-...', 'https://www.dailyexcelsior.com › jammu news', 'https://devfolio.co › submissions › studentsgo']\n"
     ]
    }
   ],
   "source": [
    "y=[]\n",
    "for link in soup.find_all('div',class_=\"BNeawe UPmit AP7Wnd\"):\n",
    "    links=link.get_text('href')\n",
    "    y.append(links)\n",
    "print(y)\n",
    "    \n",
    "\n",
    "linkss = pd.DataFrame(y,columns=['link'])\n",
    "linkss.to_csv('links.csv')"
   ]
  },
  {
   "cell_type": "code",
   "execution_count": 10,
   "metadata": {},
   "outputs": [
    {
     "name": "stdout",
     "output_type": "stream",
     "text": [
      "[\"View Vidushi Bindroo's profile on LinkedIn, the world's largest professional community\", 'Vidushi has 1 job listed on their profile', 'See the complete profile on\\xa0', '', '', '']\n",
      "[\"View Vidushi Bindroo's profile on LinkedIn, the world's largest professional community\", 'Vidushi has 1 job listed on their profile', 'See the complete profile on\\xa0', '', '', '', \"View Vidushi Bindroo's profile on LinkedIn, the world's largest professional community\", 'Vidushi has 1 job listed on their profile', 'See the complete profile on\\xa0', '', '', '']\n",
      "[\"View Vidushi Bindroo's profile on LinkedIn, the world's largest professional community\", 'Vidushi has 1 job listed on their profile', 'See the complete profile on\\xa0', '', '', '', \"View Vidushi Bindroo's profile on LinkedIn, the world's largest professional community\", 'Vidushi has 1 job listed on their profile', 'See the complete profile on\\xa0', '', '', '', '07-Sep-2019 · 1129 Followers, 1112 Following, 146 Posts - See Instagram photos and videos from Vidushi Bindroo (@vidushibindroo)']\n",
      "[\"View Vidushi Bindroo's profile on LinkedIn, the world's largest professional community\", 'Vidushi has 1 job listed on their profile', 'See the complete profile on\\xa0', '', '', '', \"View Vidushi Bindroo's profile on LinkedIn, the world's largest professional community\", 'Vidushi has 1 job listed on their profile', 'See the complete profile on\\xa0', '', '', '', '07-Sep-2019 · 1129 Followers, 1112 Following, 146 Posts - See Instagram photos and videos from Vidushi Bindroo (@vidushibindroo)', '07-Sep-2019 · 1129 Followers, 1112 Following, 146 Posts - See Instagram photos and videos from Vidushi Bindroo (@vidushibindroo)']\n",
      "[\"View Vidushi Bindroo's profile on LinkedIn, the world's largest professional community\", 'Vidushi has 1 job listed on their profile', 'See the complete profile on\\xa0', '', '', '', \"View Vidushi Bindroo's profile on LinkedIn, the world's largest professional community\", 'Vidushi has 1 job listed on their profile', 'See the complete profile on\\xa0', '', '', '', '07-Sep-2019 · 1129 Followers, 1112 Following, 146 Posts - See Instagram photos and videos from Vidushi Bindroo (@vidushibindroo)', '07-Sep-2019 · 1129 Followers, 1112 Following, 146 Posts - See Instagram photos and videos from Vidushi Bindroo (@vidushibindroo)', \"See what Vidushi Bindroo (bindroomuskan7) has discovered on Pinterest, the world's biggest collection of ideas\", '']\n",
      "[\"View Vidushi Bindroo's profile on LinkedIn, the world's largest professional community\", 'Vidushi has 1 job listed on their profile', 'See the complete profile on\\xa0', '', '', '', \"View Vidushi Bindroo's profile on LinkedIn, the world's largest professional community\", 'Vidushi has 1 job listed on their profile', 'See the complete profile on\\xa0', '', '', '', '07-Sep-2019 · 1129 Followers, 1112 Following, 146 Posts - See Instagram photos and videos from Vidushi Bindroo (@vidushibindroo)', '07-Sep-2019 · 1129 Followers, 1112 Following, 146 Posts - See Instagram photos and videos from Vidushi Bindroo (@vidushibindroo)', \"See what Vidushi Bindroo (bindroomuskan7) has discovered on Pinterest, the world's biggest collection of ideas\", '', \"See what Vidushi Bindroo (bindroomuskan7) has discovered on Pinterest, the world's biggest collection of ideas\", '']\n",
      "[\"View Vidushi Bindroo's profile on LinkedIn, the world's largest professional community\", 'Vidushi has 1 job listed on their profile', 'See the complete profile on\\xa0', '', '', '', \"View Vidushi Bindroo's profile on LinkedIn, the world's largest professional community\", 'Vidushi has 1 job listed on their profile', 'See the complete profile on\\xa0', '', '', '', '07-Sep-2019 · 1129 Followers, 1112 Following, 146 Posts - See Instagram photos and videos from Vidushi Bindroo (@vidushibindroo)', '07-Sep-2019 · 1129 Followers, 1112 Following, 146 Posts - See Instagram photos and videos from Vidushi Bindroo (@vidushibindroo)', \"See what Vidushi Bindroo (bindroomuskan7) has discovered on Pinterest, the world's biggest collection of ideas\", '', \"See what Vidushi Bindroo (bindroomuskan7) has discovered on Pinterest, the world's biggest collection of ideas\", '', '2019 Kaggle Inc', 'Our Team Terms Privacy Contact/Support', '']\n",
      "[\"View Vidushi Bindroo's profile on LinkedIn, the world's largest professional community\", 'Vidushi has 1 job listed on their profile', 'See the complete profile on\\xa0', '', '', '', \"View Vidushi Bindroo's profile on LinkedIn, the world's largest professional community\", 'Vidushi has 1 job listed on their profile', 'See the complete profile on\\xa0', '', '', '', '07-Sep-2019 · 1129 Followers, 1112 Following, 146 Posts - See Instagram photos and videos from Vidushi Bindroo (@vidushibindroo)', '07-Sep-2019 · 1129 Followers, 1112 Following, 146 Posts - See Instagram photos and videos from Vidushi Bindroo (@vidushibindroo)', \"See what Vidushi Bindroo (bindroomuskan7) has discovered on Pinterest, the world's biggest collection of ideas\", '', \"See what Vidushi Bindroo (bindroomuskan7) has discovered on Pinterest, the world's biggest collection of ideas\", '', '2019 Kaggle Inc', 'Our Team Terms Privacy Contact/Support', '', '2019 Kaggle Inc', 'Our Team Terms Privacy Contact/Support', '']\n",
      "[\"View Vidushi Bindroo's profile on LinkedIn, the world's largest professional community\", 'Vidushi has 1 job listed on their profile', 'See the complete profile on\\xa0', '', '', '', \"View Vidushi Bindroo's profile on LinkedIn, the world's largest professional community\", 'Vidushi has 1 job listed on their profile', 'See the complete profile on\\xa0', '', '', '', '07-Sep-2019 · 1129 Followers, 1112 Following, 146 Posts - See Instagram photos and videos from Vidushi Bindroo (@vidushibindroo)', '07-Sep-2019 · 1129 Followers, 1112 Following, 146 Posts - See Instagram photos and videos from Vidushi Bindroo (@vidushibindroo)', \"See what Vidushi Bindroo (bindroomuskan7) has discovered on Pinterest, the world's biggest collection of ideas\", '', \"See what Vidushi Bindroo (bindroomuskan7) has discovered on Pinterest, the world's biggest collection of ideas\", '', '2019 Kaggle Inc', 'Our Team Terms Privacy Contact/Support', '', '2019 Kaggle Inc', 'Our Team Terms Privacy Contact/Support', '', \"Vidushi's till date activity stats\", 'Exam Category', 'NTSE / NSEJS', 'Challenge Zone', '0 Played', '0 Won', 'Quiz Zone', '1 Played', '0 Won', 'Group(s)', '0 · Friend(s)', '0', '']\n",
      "[\"View Vidushi Bindroo's profile on LinkedIn, the world's largest professional community\", 'Vidushi has 1 job listed on their profile', 'See the complete profile on\\xa0', '', '', '', \"View Vidushi Bindroo's profile on LinkedIn, the world's largest professional community\", 'Vidushi has 1 job listed on their profile', 'See the complete profile on\\xa0', '', '', '', '07-Sep-2019 · 1129 Followers, 1112 Following, 146 Posts - See Instagram photos and videos from Vidushi Bindroo (@vidushibindroo)', '07-Sep-2019 · 1129 Followers, 1112 Following, 146 Posts - See Instagram photos and videos from Vidushi Bindroo (@vidushibindroo)', \"See what Vidushi Bindroo (bindroomuskan7) has discovered on Pinterest, the world's biggest collection of ideas\", '', \"See what Vidushi Bindroo (bindroomuskan7) has discovered on Pinterest, the world's biggest collection of ideas\", '', '2019 Kaggle Inc', 'Our Team Terms Privacy Contact/Support', '', '2019 Kaggle Inc', 'Our Team Terms Privacy Contact/Support', '', \"Vidushi's till date activity stats\", 'Exam Category', 'NTSE / NSEJS', 'Challenge Zone', '0 Played', '0 Won', 'Quiz Zone', '1 Played', '0 Won', 'Group(s)', '0 · Friend(s)', '0', '', \"Vidushi's till date activity stats\", 'Exam Category', 'NTSE / NSEJS', 'Challenge Zone', '0 Played', '0 Won', 'Quiz Zone', '1 Played', '0 Won', 'Group(s)', '0 · Friend(s)', '0', '']\n",
      "[\"View Vidushi Bindroo's profile on LinkedIn, the world's largest professional community\", 'Vidushi has 1 job listed on their profile', 'See the complete profile on\\xa0', '', '', '', \"View Vidushi Bindroo's profile on LinkedIn, the world's largest professional community\", 'Vidushi has 1 job listed on their profile', 'See the complete profile on\\xa0', '', '', '', '07-Sep-2019 · 1129 Followers, 1112 Following, 146 Posts - See Instagram photos and videos from Vidushi Bindroo (@vidushibindroo)', '07-Sep-2019 · 1129 Followers, 1112 Following, 146 Posts - See Instagram photos and videos from Vidushi Bindroo (@vidushibindroo)', \"See what Vidushi Bindroo (bindroomuskan7) has discovered on Pinterest, the world's biggest collection of ideas\", '', \"See what Vidushi Bindroo (bindroomuskan7) has discovered on Pinterest, the world's biggest collection of ideas\", '', '2019 Kaggle Inc', 'Our Team Terms Privacy Contact/Support', '', '2019 Kaggle Inc', 'Our Team Terms Privacy Contact/Support', '', \"Vidushi's till date activity stats\", 'Exam Category', 'NTSE / NSEJS', 'Challenge Zone', '0 Played', '0 Won', 'Quiz Zone', '1 Played', '0 Won', 'Group(s)', '0 · Friend(s)', '0', '', \"Vidushi's till date activity stats\", 'Exam Category', 'NTSE / NSEJS', 'Challenge Zone', '0 Played', '0 Won', 'Quiz Zone', '1 Played', '0 Won', 'Group(s)', '0 · Friend(s)', '0', '', 'Change Photo', 'close', 'loading', 'City: Jammu', 'Vidushi Bindroo', 'Stats · Friends · Tests', 'Profile', 'loading', 'TCY Analytics (View Subscription Plans)', 'loading', 'Feedback\\xa0', '', '', '']\n",
      "[\"View Vidushi Bindroo's profile on LinkedIn, the world's largest professional community\", 'Vidushi has 1 job listed on their profile', 'See the complete profile on\\xa0', '', '', '', \"View Vidushi Bindroo's profile on LinkedIn, the world's largest professional community\", 'Vidushi has 1 job listed on their profile', 'See the complete profile on\\xa0', '', '', '', '07-Sep-2019 · 1129 Followers, 1112 Following, 146 Posts - See Instagram photos and videos from Vidushi Bindroo (@vidushibindroo)', '07-Sep-2019 · 1129 Followers, 1112 Following, 146 Posts - See Instagram photos and videos from Vidushi Bindroo (@vidushibindroo)', \"See what Vidushi Bindroo (bindroomuskan7) has discovered on Pinterest, the world's biggest collection of ideas\", '', \"See what Vidushi Bindroo (bindroomuskan7) has discovered on Pinterest, the world's biggest collection of ideas\", '', '2019 Kaggle Inc', 'Our Team Terms Privacy Contact/Support', '', '2019 Kaggle Inc', 'Our Team Terms Privacy Contact/Support', '', \"Vidushi's till date activity stats\", 'Exam Category', 'NTSE / NSEJS', 'Challenge Zone', '0 Played', '0 Won', 'Quiz Zone', '1 Played', '0 Won', 'Group(s)', '0 · Friend(s)', '0', '', \"Vidushi's till date activity stats\", 'Exam Category', 'NTSE / NSEJS', 'Challenge Zone', '0 Played', '0 Won', 'Quiz Zone', '1 Played', '0 Won', 'Group(s)', '0 · Friend(s)', '0', '', 'Change Photo', 'close', 'loading', 'City: Jammu', 'Vidushi Bindroo', 'Stats · Friends · Tests', 'Profile', 'loading', 'TCY Analytics (View Subscription Plans)', 'loading', 'Feedback\\xa0', '', '', '', 'Change Photo', 'close', 'loading', 'City: Jammu', 'Vidushi Bindroo', 'Stats · Friends · Tests', 'Profile', 'loading', 'TCY Analytics (View Subscription Plans)', 'loading', 'Feedback\\xa0', '', '', '']\n",
      "[\"View Vidushi Bindroo's profile on LinkedIn, the world's largest professional community\", 'Vidushi has 1 job listed on their profile', 'See the complete profile on\\xa0', '', '', '', \"View Vidushi Bindroo's profile on LinkedIn, the world's largest professional community\", 'Vidushi has 1 job listed on their profile', 'See the complete profile on\\xa0', '', '', '', '07-Sep-2019 · 1129 Followers, 1112 Following, 146 Posts - See Instagram photos and videos from Vidushi Bindroo (@vidushibindroo)', '07-Sep-2019 · 1129 Followers, 1112 Following, 146 Posts - See Instagram photos and videos from Vidushi Bindroo (@vidushibindroo)', \"See what Vidushi Bindroo (bindroomuskan7) has discovered on Pinterest, the world's biggest collection of ideas\", '', \"See what Vidushi Bindroo (bindroomuskan7) has discovered on Pinterest, the world's biggest collection of ideas\", '', '2019 Kaggle Inc', 'Our Team Terms Privacy Contact/Support', '', '2019 Kaggle Inc', 'Our Team Terms Privacy Contact/Support', '', \"Vidushi's till date activity stats\", 'Exam Category', 'NTSE / NSEJS', 'Challenge Zone', '0 Played', '0 Won', 'Quiz Zone', '1 Played', '0 Won', 'Group(s)', '0 · Friend(s)', '0', '', \"Vidushi's till date activity stats\", 'Exam Category', 'NTSE / NSEJS', 'Challenge Zone', '0 Played', '0 Won', 'Quiz Zone', '1 Played', '0 Won', 'Group(s)', '0 · Friend(s)', '0', '', 'Change Photo', 'close', 'loading', 'City: Jammu', 'Vidushi Bindroo', 'Stats · Friends · Tests', 'Profile', 'loading', 'TCY Analytics (View Subscription Plans)', 'loading', 'Feedback\\xa0', '', '', '', 'Change Photo', 'close', 'loading', 'City: Jammu', 'Vidushi Bindroo', 'Stats · Friends · Tests', 'Profile', 'loading', 'TCY Analytics (View Subscription Plans)', 'loading', 'Feedback\\xa0', '', '', '', 'Vidushi Bindroo (IITU17115) Sanchit Gupta (IITU17147) Akash Gupta (IITU17224 ) Vineet Sharma (17mi514) Dev Tyagi (IIITU 17317) Vishal Parmar (17mi535)']\n",
      "[\"View Vidushi Bindroo's profile on LinkedIn, the world's largest professional community\", 'Vidushi has 1 job listed on their profile', 'See the complete profile on\\xa0', '', '', '', \"View Vidushi Bindroo's profile on LinkedIn, the world's largest professional community\", 'Vidushi has 1 job listed on their profile', 'See the complete profile on\\xa0', '', '', '', '07-Sep-2019 · 1129 Followers, 1112 Following, 146 Posts - See Instagram photos and videos from Vidushi Bindroo (@vidushibindroo)', '07-Sep-2019 · 1129 Followers, 1112 Following, 146 Posts - See Instagram photos and videos from Vidushi Bindroo (@vidushibindroo)', \"See what Vidushi Bindroo (bindroomuskan7) has discovered on Pinterest, the world's biggest collection of ideas\", '', \"See what Vidushi Bindroo (bindroomuskan7) has discovered on Pinterest, the world's biggest collection of ideas\", '', '2019 Kaggle Inc', 'Our Team Terms Privacy Contact/Support', '', '2019 Kaggle Inc', 'Our Team Terms Privacy Contact/Support', '', \"Vidushi's till date activity stats\", 'Exam Category', 'NTSE / NSEJS', 'Challenge Zone', '0 Played', '0 Won', 'Quiz Zone', '1 Played', '0 Won', 'Group(s)', '0 · Friend(s)', '0', '', \"Vidushi's till date activity stats\", 'Exam Category', 'NTSE / NSEJS', 'Challenge Zone', '0 Played', '0 Won', 'Quiz Zone', '1 Played', '0 Won', 'Group(s)', '0 · Friend(s)', '0', '', 'Change Photo', 'close', 'loading', 'City: Jammu', 'Vidushi Bindroo', 'Stats · Friends · Tests', 'Profile', 'loading', 'TCY Analytics (View Subscription Plans)', 'loading', 'Feedback\\xa0', '', '', '', 'Change Photo', 'close', 'loading', 'City: Jammu', 'Vidushi Bindroo', 'Stats · Friends · Tests', 'Profile', 'loading', 'TCY Analytics (View Subscription Plans)', 'loading', 'Feedback\\xa0', '', '', '', 'Vidushi Bindroo (IITU17115) Sanchit Gupta (IITU17147) Akash Gupta (IITU17224 ) Vineet Sharma (17mi514) Dev Tyagi (IIITU 17317) Vishal Parmar (17mi535)', 'Vidushi Bindroo (IITU17115) Sanchit Gupta (IITU17147) Akash Gupta (IITU17224 ) Vineet Sharma (17mi514) Dev Tyagi (IIITU 17317) Vishal Parmar (17mi535)']\n",
      "[\"View Vidushi Bindroo's profile on LinkedIn, the world's largest professional community\", 'Vidushi has 1 job listed on their profile', 'See the complete profile on\\xa0', '', '', '', \"View Vidushi Bindroo's profile on LinkedIn, the world's largest professional community\", 'Vidushi has 1 job listed on their profile', 'See the complete profile on\\xa0', '', '', '', '07-Sep-2019 · 1129 Followers, 1112 Following, 146 Posts - See Instagram photos and videos from Vidushi Bindroo (@vidushibindroo)', '07-Sep-2019 · 1129 Followers, 1112 Following, 146 Posts - See Instagram photos and videos from Vidushi Bindroo (@vidushibindroo)', \"See what Vidushi Bindroo (bindroomuskan7) has discovered on Pinterest, the world's biggest collection of ideas\", '', \"See what Vidushi Bindroo (bindroomuskan7) has discovered on Pinterest, the world's biggest collection of ideas\", '', '2019 Kaggle Inc', 'Our Team Terms Privacy Contact/Support', '', '2019 Kaggle Inc', 'Our Team Terms Privacy Contact/Support', '', \"Vidushi's till date activity stats\", 'Exam Category', 'NTSE / NSEJS', 'Challenge Zone', '0 Played', '0 Won', 'Quiz Zone', '1 Played', '0 Won', 'Group(s)', '0 · Friend(s)', '0', '', \"Vidushi's till date activity stats\", 'Exam Category', 'NTSE / NSEJS', 'Challenge Zone', '0 Played', '0 Won', 'Quiz Zone', '1 Played', '0 Won', 'Group(s)', '0 · Friend(s)', '0', '', 'Change Photo', 'close', 'loading', 'City: Jammu', 'Vidushi Bindroo', 'Stats · Friends · Tests', 'Profile', 'loading', 'TCY Analytics (View Subscription Plans)', 'loading', 'Feedback\\xa0', '', '', '', 'Change Photo', 'close', 'loading', 'City: Jammu', 'Vidushi Bindroo', 'Stats · Friends · Tests', 'Profile', 'loading', 'TCY Analytics (View Subscription Plans)', 'loading', 'Feedback\\xa0', '', '', '', 'Vidushi Bindroo (IITU17115) Sanchit Gupta (IITU17147) Akash Gupta (IITU17224 ) Vineet Sharma (17mi514) Dev Tyagi (IIITU 17317) Vishal Parmar (17mi535)', 'Vidushi Bindroo (IITU17115) Sanchit Gupta (IITU17147) Akash Gupta (IITU17224 ) Vineet Sharma (17mi514) Dev Tyagi (IIITU 17317) Vishal Parmar (17mi535)', '25-Jun-2017 ·', '', '', 'Suhasini Malla, Sukanya Wattal, Nitin Pandita, Akash Raina, Bhvika Zutshi, Ritika Koul, Prateek Labroo, Sahil Koul, Vidushi Bindroo, Diksha\\xa0', '', '', '']\n",
      "[\"View Vidushi Bindroo's profile on LinkedIn, the world's largest professional community\", 'Vidushi has 1 job listed on their profile', 'See the complete profile on\\xa0', '', '', '', \"View Vidushi Bindroo's profile on LinkedIn, the world's largest professional community\", 'Vidushi has 1 job listed on their profile', 'See the complete profile on\\xa0', '', '', '', '07-Sep-2019 · 1129 Followers, 1112 Following, 146 Posts - See Instagram photos and videos from Vidushi Bindroo (@vidushibindroo)', '07-Sep-2019 · 1129 Followers, 1112 Following, 146 Posts - See Instagram photos and videos from Vidushi Bindroo (@vidushibindroo)', \"See what Vidushi Bindroo (bindroomuskan7) has discovered on Pinterest, the world's biggest collection of ideas\", '', \"See what Vidushi Bindroo (bindroomuskan7) has discovered on Pinterest, the world's biggest collection of ideas\", '', '2019 Kaggle Inc', 'Our Team Terms Privacy Contact/Support', '', '2019 Kaggle Inc', 'Our Team Terms Privacy Contact/Support', '', \"Vidushi's till date activity stats\", 'Exam Category', 'NTSE / NSEJS', 'Challenge Zone', '0 Played', '0 Won', 'Quiz Zone', '1 Played', '0 Won', 'Group(s)', '0 · Friend(s)', '0', '', \"Vidushi's till date activity stats\", 'Exam Category', 'NTSE / NSEJS', 'Challenge Zone', '0 Played', '0 Won', 'Quiz Zone', '1 Played', '0 Won', 'Group(s)', '0 · Friend(s)', '0', '', 'Change Photo', 'close', 'loading', 'City: Jammu', 'Vidushi Bindroo', 'Stats · Friends · Tests', 'Profile', 'loading', 'TCY Analytics (View Subscription Plans)', 'loading', 'Feedback\\xa0', '', '', '', 'Change Photo', 'close', 'loading', 'City: Jammu', 'Vidushi Bindroo', 'Stats · Friends · Tests', 'Profile', 'loading', 'TCY Analytics (View Subscription Plans)', 'loading', 'Feedback\\xa0', '', '', '', 'Vidushi Bindroo (IITU17115) Sanchit Gupta (IITU17147) Akash Gupta (IITU17224 ) Vineet Sharma (17mi514) Dev Tyagi (IIITU 17317) Vishal Parmar (17mi535)', 'Vidushi Bindroo (IITU17115) Sanchit Gupta (IITU17147) Akash Gupta (IITU17224 ) Vineet Sharma (17mi514) Dev Tyagi (IIITU 17317) Vishal Parmar (17mi535)', '25-Jun-2017 ·', '', '', 'Suhasini Malla, Sukanya Wattal, Nitin Pandita, Akash Raina, Bhvika Zutshi, Ritika Koul, Prateek Labroo, Sahil Koul, Vidushi Bindroo, Diksha\\xa0', '', '', '', '25-Jun-2017 ·', '', '', 'Suhasini Malla, Sukanya Wattal, Nitin Pandita, Akash Raina, Bhvika Zutshi, Ritika Koul, Prateek Labroo, Sahil Koul, Vidushi Bindroo, Diksha\\xa0', '', '', '']\n",
      "[\"View Vidushi Bindroo's profile on LinkedIn, the world's largest professional community\", 'Vidushi has 1 job listed on their profile', 'See the complete profile on\\xa0', '', '', '', \"View Vidushi Bindroo's profile on LinkedIn, the world's largest professional community\", 'Vidushi has 1 job listed on their profile', 'See the complete profile on\\xa0', '', '', '', '07-Sep-2019 · 1129 Followers, 1112 Following, 146 Posts - See Instagram photos and videos from Vidushi Bindroo (@vidushibindroo)', '07-Sep-2019 · 1129 Followers, 1112 Following, 146 Posts - See Instagram photos and videos from Vidushi Bindroo (@vidushibindroo)', \"See what Vidushi Bindroo (bindroomuskan7) has discovered on Pinterest, the world's biggest collection of ideas\", '', \"See what Vidushi Bindroo (bindroomuskan7) has discovered on Pinterest, the world's biggest collection of ideas\", '', '2019 Kaggle Inc', 'Our Team Terms Privacy Contact/Support', '', '2019 Kaggle Inc', 'Our Team Terms Privacy Contact/Support', '', \"Vidushi's till date activity stats\", 'Exam Category', 'NTSE / NSEJS', 'Challenge Zone', '0 Played', '0 Won', 'Quiz Zone', '1 Played', '0 Won', 'Group(s)', '0 · Friend(s)', '0', '', \"Vidushi's till date activity stats\", 'Exam Category', 'NTSE / NSEJS', 'Challenge Zone', '0 Played', '0 Won', 'Quiz Zone', '1 Played', '0 Won', 'Group(s)', '0 · Friend(s)', '0', '', 'Change Photo', 'close', 'loading', 'City: Jammu', 'Vidushi Bindroo', 'Stats · Friends · Tests', 'Profile', 'loading', 'TCY Analytics (View Subscription Plans)', 'loading', 'Feedback\\xa0', '', '', '', 'Change Photo', 'close', 'loading', 'City: Jammu', 'Vidushi Bindroo', 'Stats · Friends · Tests', 'Profile', 'loading', 'TCY Analytics (View Subscription Plans)', 'loading', 'Feedback\\xa0', '', '', '', 'Vidushi Bindroo (IITU17115) Sanchit Gupta (IITU17147) Akash Gupta (IITU17224 ) Vineet Sharma (17mi514) Dev Tyagi (IIITU 17317) Vishal Parmar (17mi535)', 'Vidushi Bindroo (IITU17115) Sanchit Gupta (IITU17147) Akash Gupta (IITU17224 ) Vineet Sharma (17mi514) Dev Tyagi (IIITU 17317) Vishal Parmar (17mi535)', '25-Jun-2017 ·', '', '', 'Suhasini Malla, Sukanya Wattal, Nitin Pandita, Akash Raina, Bhvika Zutshi, Ritika Koul, Prateek Labroo, Sahil Koul, Vidushi Bindroo, Diksha\\xa0', '', '', '', '25-Jun-2017 ·', '', '', 'Suhasini Malla, Sukanya Wattal, Nitin Pandita, Akash Raina, Bhvika Zutshi, Ritika Koul, Prateek Labroo, Sahil Koul, Vidushi Bindroo, Diksha\\xa0', '', '', '', 'Reduces the communication gap between student and teachers', 'Provide Information to new comers in NITH', 'It solves the problem of downloading older data in\\xa0', '', '', '']\n",
      "[\"View Vidushi Bindroo's profile on LinkedIn, the world's largest professional community\", 'Vidushi has 1 job listed on their profile', 'See the complete profile on\\xa0', '', '', '', \"View Vidushi Bindroo's profile on LinkedIn, the world's largest professional community\", 'Vidushi has 1 job listed on their profile', 'See the complete profile on\\xa0', '', '', '', '07-Sep-2019 · 1129 Followers, 1112 Following, 146 Posts - See Instagram photos and videos from Vidushi Bindroo (@vidushibindroo)', '07-Sep-2019 · 1129 Followers, 1112 Following, 146 Posts - See Instagram photos and videos from Vidushi Bindroo (@vidushibindroo)', \"See what Vidushi Bindroo (bindroomuskan7) has discovered on Pinterest, the world's biggest collection of ideas\", '', \"See what Vidushi Bindroo (bindroomuskan7) has discovered on Pinterest, the world's biggest collection of ideas\", '', '2019 Kaggle Inc', 'Our Team Terms Privacy Contact/Support', '', '2019 Kaggle Inc', 'Our Team Terms Privacy Contact/Support', '', \"Vidushi's till date activity stats\", 'Exam Category', 'NTSE / NSEJS', 'Challenge Zone', '0 Played', '0 Won', 'Quiz Zone', '1 Played', '0 Won', 'Group(s)', '0 · Friend(s)', '0', '', \"Vidushi's till date activity stats\", 'Exam Category', 'NTSE / NSEJS', 'Challenge Zone', '0 Played', '0 Won', 'Quiz Zone', '1 Played', '0 Won', 'Group(s)', '0 · Friend(s)', '0', '', 'Change Photo', 'close', 'loading', 'City: Jammu', 'Vidushi Bindroo', 'Stats · Friends · Tests', 'Profile', 'loading', 'TCY Analytics (View Subscription Plans)', 'loading', 'Feedback\\xa0', '', '', '', 'Change Photo', 'close', 'loading', 'City: Jammu', 'Vidushi Bindroo', 'Stats · Friends · Tests', 'Profile', 'loading', 'TCY Analytics (View Subscription Plans)', 'loading', 'Feedback\\xa0', '', '', '', 'Vidushi Bindroo (IITU17115) Sanchit Gupta (IITU17147) Akash Gupta (IITU17224 ) Vineet Sharma (17mi514) Dev Tyagi (IIITU 17317) Vishal Parmar (17mi535)', 'Vidushi Bindroo (IITU17115) Sanchit Gupta (IITU17147) Akash Gupta (IITU17224 ) Vineet Sharma (17mi514) Dev Tyagi (IIITU 17317) Vishal Parmar (17mi535)', '25-Jun-2017 ·', '', '', 'Suhasini Malla, Sukanya Wattal, Nitin Pandita, Akash Raina, Bhvika Zutshi, Ritika Koul, Prateek Labroo, Sahil Koul, Vidushi Bindroo, Diksha\\xa0', '', '', '', '25-Jun-2017 ·', '', '', 'Suhasini Malla, Sukanya Wattal, Nitin Pandita, Akash Raina, Bhvika Zutshi, Ritika Koul, Prateek Labroo, Sahil Koul, Vidushi Bindroo, Diksha\\xa0', '', '', '', 'Reduces the communication gap between student and teachers', 'Provide Information to new comers in NITH', 'It solves the problem of downloading older data in\\xa0', '', '', '', 'Reduces the communication gap between student and teachers', 'Provide Information to new comers in NITH', 'It solves the problem of downloading older data in\\xa0', '', '', '']\n"
     ]
    }
   ],
   "source": [
    "x=[]\n",
    "for link in soup.find_all('div',class_=\"BNeawe s3v9rd AP7Wnd\"):\n",
    "    actual=link.get_text()\n",
    "    sentences = re.split(r' *[\\.\\?!][\\'\"\\)\\]]* *', actual)\n",
    "    for stuff in sentences:\n",
    "        x.append(stuff)\n",
    "    print(x)\n",
    "df = pd.DataFrame(x,columns=['review'])\n",
    "df.to_csv('sentis.csv')\n",
    "\n",
    "        "
   ]
  },
  {
   "cell_type": "code",
   "execution_count": 12,
   "metadata": {},
   "outputs": [
    {
     "name": "stdout",
     "output_type": "stream",
     "text": [
      "Subjectivity 0.08265993265993266 sentiment 0.02794612794612794\n"
     ]
    }
   ],
   "source": [
    "from textblob import TextBlob\n",
    "headline_results = soup.find_all('div',class_='BNeawe s3v9rd AP7Wnd')\n",
    "subjectivity =0\n",
    "sentiment=0\n",
    "for h in headline_results:\n",
    "    blob = TextBlob(h.get_text())\n",
    "    sentiment += blob.sentiment.polarity / len(headline_results)\n",
    "    subjectivity += blob.sentiment.subjectivity / len(headline_results)\n",
    "print('Subjectivity',subjectivity,'sentiment',sentiment)       "
   ]
  },
  {
   "cell_type": "code",
   "execution_count": null,
   "metadata": {},
   "outputs": [],
   "source": []
  }
 ],
 "metadata": {
  "kernelspec": {
   "display_name": "Python 3",
   "language": "python",
   "name": "python3"
  },
  "language_info": {
   "codemirror_mode": {
    "name": "ipython",
    "version": 3
   },
   "file_extension": ".py",
   "mimetype": "text/x-python",
   "name": "python",
   "nbconvert_exporter": "python",
   "pygments_lexer": "ipython3",
   "version": "3.7.1"
  }
 },
 "nbformat": 4,
 "nbformat_minor": 2
}
