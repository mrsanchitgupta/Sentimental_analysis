{
 "cells": [
  {
   "cell_type": "code",
   "execution_count": 50,
   "metadata": {},
   "outputs": [],
   "source": [
    "\n",
    "import requests,webbrowser\n",
    "from bs4 import BeautifulSoup\n",
    "\n"
   ]
  },
  {
   "cell_type": "code",
   "execution_count": 51,
   "metadata": {},
   "outputs": [
    {
     "name": "stdout",
     "output_type": "stream",
     "text": [
      "enter something to search:trump\n",
      "googling........\n"
     ]
    }
   ],
   "source": [
    "user_input= input(\"enter something to search:\")\n",
    "print(\"googling........\")\n",
    "google_search = requests.get(\"https://www.google.com/search?q=\"+user_input)\n",
    "soup=BeautifulSoup(google_search.text, 'html.parser')\n",
    "#print(soup.prettify())\n",
    "#soup= BeautifulSoup(google_search.text,'html.parser')\n",
    "search_results = soup.find_all('div',class_='BNeawe UPmit AP7Wnd')\n",
    "#print(search_results)\n",
    "#print(search_results)\n"
   ]
  },
  {
   "cell_type": "code",
   "execution_count": 52,
   "metadata": {},
   "outputs": [
    {
     "name": "stdout",
     "output_type": "stream",
     "text": [
      "[]\n"
     ]
    }
   ],
   "source": [
    "search_results2 = soup.find_all('span',class_='st')\n",
    "print(search_results2)"
   ]
  },
  {
   "cell_type": "code",
   "execution_count": 53,
   "metadata": {},
   "outputs": [
    {
     "data": {
      "text/plain": [
       "[<a class=\"BVG0Nb\" href=\"/url?q=https://www.ndtv.com/world-news/on-prince-harry-meghan-markle-parting-as-senior-royals-what-donald-trump-said-2162259&amp;sa=U&amp;ved=2ahUKEwjNvKzpr_vmAhUAxzgGHbQ_CMAQ0PADMAB6BAgFEAI&amp;usg=AOvVaw1NXuR_GWRgsX0d50fbbPVU\"><div><div style=\"width:232px\"><div class=\"S7Jdze\" style=\"background-color:;width:232px;height:128px\"><img alt=\"\" class=\"EYOsld\" data-deferred=\"1\" id=\"dimg_1\" src=\"data:image/gif;base64,R0lGODlhAQABAIAAAP///////yH5BAEKAAEALAAAAAABAAEAAAICTAEAOw==\" style=\"max-width:232px;max-height:128px\"/></div><div class=\"RWuggc kCrYT\"><div><div class=\"BNeawe s3v9rd AP7Wnd\"><span class=\"rQMQod Xb5VRe\">\"I Just Have Such Respect For The Queen\": Trump On Harry, Meghan Quitting</span></div></div><div><div class=\"BNeawe tAd8D AP7Wnd\">NDTV.com\n",
       " 5 hours ago</div></div></div></div></div></a>,\n",
       " <a class=\"BVG0Nb\" href=\"/url?q=https://timesofindia.indiatimes.com/world/us/iran-targeted-4-us-embassies-trump/articleshow/73198354.cms&amp;sa=U&amp;ved=2ahUKEwjNvKzpr_vmAhUAxzgGHbQ_CMAQ0PADMAF6BAgFEAY&amp;usg=AOvVaw17MTgIg539I04cjElF2wqS\"><div><div style=\"width:232px\"><div class=\"S7Jdze\" style=\"background-color:;width:232px;height:128px\"><img alt=\"\" class=\"EYOsld\" data-deferred=\"1\" id=\"dimg_3\" src=\"data:image/gif;base64,R0lGODlhAQABAIAAAP///////yH5BAEKAAEALAAAAAABAAEAAAICTAEAOw==\" style=\"max-width:232px;max-height:128px\"/></div><div class=\"RWuggc kCrYT\"><div><div class=\"BNeawe s3v9rd AP7Wnd\"><span class=\"rQMQod Xb5VRe\">Iran targeted 4 US embassies: Trump</span></div></div><div><div class=\"BNeawe tAd8D AP7Wnd\">Times of India\n",
       " 7 hours ago</div></div></div></div></div></a>,\n",
       " <a class=\"BVG0Nb\" href=\"/url?q=https://www.business-standard.com/article/international/not-enough-for-talks-says-n-korea-after-trump-greets-kim-on-birthday-120011100381_1.html&amp;sa=U&amp;ved=2ahUKEwjNvKzpr_vmAhUAxzgGHbQ_CMAQ0PADMAJ6BAgFEAo&amp;usg=AOvVaw0Kh0PiD7QCa-vHkQl60ll6\"><div><div style=\"width:232px\"><div class=\"S7Jdze\" style=\"background-color:;width:232px;height:128px\"><img alt=\"\" class=\"EYOsld\" data-deferred=\"1\" id=\"dimg_5\" src=\"data:image/gif;base64,R0lGODlhAQABAIAAAP///////yH5BAEKAAEALAAAAAABAAEAAAICTAEAOw==\" style=\"max-width:232px;max-height:128px\"/></div><div class=\"RWuggc kCrYT\"><div><div class=\"BNeawe s3v9rd AP7Wnd\"><span class=\"rQMQod Xb5VRe\">Not enough for talks, says N Korea after Trump greets Kim on birthday</span></div></div><div><div class=\"BNeawe tAd8D AP7Wnd\">Business Standard\n",
       " 3 hours ago</div></div></div></div></div></a>,\n",
       " <a class=\"BVG0Nb\" href=\"/url?q=https://www.thehindu.com/news/international/trump-goes-out-of-his-way-to-take-a-bow-again/article30541685.ece&amp;sa=U&amp;ved=2ahUKEwjNvKzpr_vmAhUAxzgGHbQ_CMAQ0PADMAN6BAgFEA4&amp;usg=AOvVaw3UbsFDscPCGWiEo9MOWXbO\"><div><div style=\"width:232px\"><div class=\"S7Jdze\" style=\"background-color:;width:232px;height:128px\"><img alt=\"\" class=\"EYOsld\" data-deferred=\"1\" id=\"dimg_7\" src=\"data:image/gif;base64,R0lGODlhAQABAIAAAP///////yH5BAEKAAEALAAAAAABAAEAAAICTAEAOw==\" style=\"max-width:232px;max-height:128px\"/></div><div class=\"RWuggc kCrYT\"><div><div class=\"BNeawe s3v9rd AP7Wnd\"><span class=\"rQMQod Xb5VRe\">Trump goes out of his way to take a bow, again</span></div></div><div><div class=\"BNeawe tAd8D AP7Wnd\">The Hindu\n",
       " 4 hours ago</div></div></div></div></div></a>,\n",
       " <a class=\"BVG0Nb\" href=\"/url?q=https://www.moneycontrol.com/news/world/us-president-donald-trump-calls-british-royal-family-spat-sad-4806781.html&amp;sa=U&amp;ved=2ahUKEwjNvKzpr_vmAhUAxzgGHbQ_CMAQ0PADMAR6BAgFEBI&amp;usg=AOvVaw11ASGDI6_Mu_m5AjlOTrSU\"><div><div style=\"width:232px\"><div class=\"S7Jdze\" style=\"background-color:;width:232px;height:128px\"><img alt=\"\" class=\"EYOsld\" data-deferred=\"1\" id=\"dimg_9\" src=\"data:image/gif;base64,R0lGODlhAQABAIAAAP///////yH5BAEKAAEALAAAAAABAAEAAAICTAEAOw==\" style=\"max-width:232px;max-height:128px\"/></div><div class=\"RWuggc kCrYT\"><div><div class=\"BNeawe s3v9rd AP7Wnd\"><span class=\"rQMQod Xb5VRe\">US President Donald Trump calls British royal family spat 'sad'</span></div></div><div><div class=\"BNeawe tAd8D AP7Wnd\">Moneycontrol\n",
       " 6 hours ago</div></div></div></div></div></a>,\n",
       " <a class=\"BVG0Nb\" href=\"/url?q=https://www.indiatoday.in/world/story/donald-trump-qassem-soleimani-us-iran-1635881-2020-01-11&amp;sa=U&amp;ved=2ahUKEwjNvKzpr_vmAhUAxzgGHbQ_CMAQ0PADMAV6BAgFEBY&amp;usg=AOvVaw36ZthYgVSFB_wWwXwBXLD_\"><div><div style=\"width:232px\"><div class=\"S7Jdze\" style=\"background-color:;width:232px;height:128px\"><img alt=\"\" class=\"EYOsld\" data-deferred=\"1\" id=\"dimg_11\" src=\"data:image/gif;base64,R0lGODlhAQABAIAAAP///////yH5BAEKAAEALAAAAAABAAEAAAICTAEAOw==\" style=\"max-width:232px;max-height:128px\"/></div><div class=\"RWuggc kCrYT\"><div><div class=\"BNeawe s3v9rd AP7Wnd\"><span class=\"rQMQod Xb5VRe\">Donald Trump on Soleimani killing: Iran planned to hit our embassy. Wait, \n",
       " embassies. 4, actually</span></div></div><div><div class=\"BNeawe tAd8D AP7Wnd\">India Today\n",
       " 6 hours ago</div></div></div></div></div></a>,\n",
       " <a class=\"BVG0Nb\" href=\"/url?q=https://www.amarujala.com/world/america-iran-tension-donald-trump-qassem-soleimani-america-attack-on-iraq&amp;sa=U&amp;ved=2ahUKEwjNvKzpr_vmAhUAxzgGHbQ_CMAQ0PADMAZ6BAgFEBo&amp;usg=AOvVaw1pbpi5kdj6pqOAMvVx11kK\"><div><div style=\"width:232px\"><div class=\"S7Jdze\" style=\"background-color:;width:232px;height:128px\"><img alt=\"\" class=\"EYOsld\" data-deferred=\"1\" id=\"dimg_13\" src=\"data:image/gif;base64,R0lGODlhAQABAIAAAP///////yH5BAEKAAEALAAAAAABAAEAAAICTAEAOw==\" style=\"max-width:232px;max-height:128px\"/></div><div class=\"RWuggc kCrYT\"><div><div class=\"BNeawe s3v9rd AP7Wnd\"><span class=\"rQMQod Xb5VRe\">ट्रंप ने सुलेमानी को मारने की वजह का किया खुलासा, बताया क्यों ईरानी जनरल को \n",
       " बनाया निशाना</span></div></div><div><div class=\"BNeawe tAd8D AP7Wnd\">Amar Ujala\n",
       " 7 hours ago</div></div></div></div></div></a>,\n",
       " <a class=\"BVG0Nb\" href=\"/url?q=https://www.thehindu.com/news/international/trump-says-he-believes-soleimani-was-targeting-four-embassies/article30538969.ece&amp;sa=U&amp;ved=2ahUKEwjNvKzpr_vmAhUAxzgGHbQ_CMAQ0PADMAd6BAgFEB4&amp;usg=AOvVaw2W9OLx5_1EEwj0UWb5NrSU\"><div><div style=\"width:232px\"><div class=\"S7Jdze\" style=\"background-color:;width:232px;height:128px\"><img alt=\"\" class=\"EYOsld\" data-deferred=\"1\" id=\"dimg_15\" src=\"data:image/gif;base64,R0lGODlhAQABAIAAAP///////yH5BAEKAAEALAAAAAABAAEAAAICTAEAOw==\" style=\"max-width:232px;max-height:128px\"/></div><div class=\"RWuggc kCrYT\"><div><div class=\"BNeawe s3v9rd AP7Wnd\"><span class=\"rQMQod Xb5VRe\">Trump says he believes Soleimani was targeting 'four embassies'</span></div></div><div><div class=\"BNeawe tAd8D AP7Wnd\">The Hindu\n",
       " 13 hours ago</div></div></div></div></div></a>,\n",
       " <a class=\"BVG0Nb\" href=\"/url?q=https://www.livemint.com/news/world/donald-trump-says-china-trade-deal-may-be-signed-shortly-after-january-15-11578633339834.html&amp;sa=U&amp;ved=2ahUKEwjNvKzpr_vmAhUAxzgGHbQ_CMAQ0PADMAh6BAgFECI&amp;usg=AOvVaw0v-jFt1dzI2p0FM0NVYJxN\"><div><div style=\"width:232px\"><div class=\"S7Jdze\" style=\"background-color:;width:232px;height:128px\"><img alt=\"\" class=\"EYOsld\" data-deferred=\"1\" id=\"dimg_17\" src=\"data:image/gif;base64,R0lGODlhAQABAIAAAP///////yH5BAEKAAEALAAAAAABAAEAAAICTAEAOw==\" style=\"max-width:232px;max-height:128px\"/></div><div class=\"RWuggc kCrYT\"><div><div class=\"BNeawe s3v9rd AP7Wnd\"><span class=\"rQMQod Xb5VRe\">Donald Trump says China trade deal may be signed shortly after January 15</span></div></div><div><div class=\"BNeawe tAd8D AP7Wnd\">Livemint\n",
       " 1 day ago</div></div></div></div></div></a>,\n",
       " <a class=\"BVG0Nb\" href=\"/url?q=https://www.moneycontrol.com/news/world/us-house-passes-resolution-to-limit-donald-trumps-ability-to-wage-war-on-iran-4802911.html&amp;sa=U&amp;ved=2ahUKEwjNvKzpr_vmAhUAxzgGHbQ_CMAQ0PADMAl6BAgFECY&amp;usg=AOvVaw0adCfTyH4E_MJz8fxLylKO\"><div><div style=\"width:232px\"><div class=\"S7Jdze\" style=\"background-color:;width:232px;height:128px\"><img alt=\"\" class=\"EYOsld\" data-deferred=\"1\" id=\"dimg_19\" src=\"data:image/gif;base64,R0lGODlhAQABAIAAAP///////yH5BAEKAAEALAAAAAABAAEAAAICTAEAOw==\" style=\"max-width:232px;max-height:128px\"/></div><div class=\"RWuggc kCrYT\"><div><div class=\"BNeawe s3v9rd AP7Wnd\"><span class=\"rQMQod Xb5VRe\">US House passes resolution to limit Donald Trump's ability to wage war on \n",
       " Iran</span></div></div><div><div class=\"BNeawe tAd8D AP7Wnd\">Moneycontrol\n",
       " 1 day ago</div></div></div></div></div></a>,\n",
       " <a class=\"BVG0Nb\" href=\"/search?ie=UTF-8&amp;q=Barack+Obama&amp;stick=H4sIAAAAAAAAAONgFuLUz9U3SC4ssTRQAjONcrNyi7SkspOt9AtS8wtyUoFUUXF-nlVxZkpqeWJl8SJWHqfEosTkbAX_pMTcRAD3P0NiQwAAAA&amp;sa=X&amp;ved=2ahUKEwjNvKzpr_vmAhUAxzgGHbQ_CMAQ0I4BMBR6BAgLEBs\"><div><div style=\"width:112px\"><div class=\"S7Jdze\" style=\"width:112px;height:112px\"><img alt=\"\" class=\"EYOsld\" data-deferred=\"1\" id=\"dimg_23\" src=\"data:image/gif;base64,R0lGODlhAQABAIAAAP///////yH5BAEKAAEALAAAAAABAAEAAAICTAEAOw==\" style=\"max-width:112px;max-height:112px\"/></div><div class=\"RWuggc kCrYT\"><div><div class=\"BNeawe s3v9rd AP7Wnd\">Barack Obama</div></div></div></div></div></a>,\n",
       " <a class=\"BVG0Nb\" href=\"/search?ie=UTF-8&amp;q=Joe+Biden&amp;stick=H4sIAAAAAAAAAONgFuLUz9U3SC4ssTRQAjMNjdIrjLSkspOt9AtS8wtyUoFUUXF-nlVxZkpqeWJl8SJWTq_8VAUnIDcPAOeEbPlAAAAA&amp;sa=X&amp;ved=2ahUKEwjNvKzpr_vmAhUAxzgGHbQ_CMAQ0I4BMBR6BAgLEB0\"><div><div style=\"width:112px\"><div class=\"S7Jdze\" style=\"width:112px;height:112px\"><img alt=\"\" class=\"EYOsld\" data-deferred=\"1\" id=\"dimg_25\" src=\"data:image/gif;base64,R0lGODlhAQABAIAAAP///////yH5BAEKAAEALAAAAAABAAEAAAICTAEAOw==\" style=\"max-width:112px;max-height:112px\"/></div><div class=\"RWuggc kCrYT\"><div><div class=\"BNeawe s3v9rd AP7Wnd\">Joe Biden</div></div></div></div></div></a>,\n",
       " <a class=\"BVG0Nb\" href=\"/search?ie=UTF-8&amp;q=Boris+Johnson&amp;stick=H4sIAAAAAAAAAONgFuLUz9U3SC4ssTRQ4gAxM0wNLLSkspOt9AtS8wtyUoFUUXF-nlVxZkpqeWJl8SJWXqf8osxiBa_8jDygBABq502jQwAAAA&amp;sa=X&amp;ved=2ahUKEwjNvKzpr_vmAhUAxzgGHbQ_CMAQ0I4BMBR6BAgLEB8\"><div><div style=\"width:112px\"><div class=\"S7Jdze\" style=\"width:112px;height:112px\"><img alt=\"\" class=\"EYOsld\" data-deferred=\"1\" id=\"dimg_27\" src=\"data:image/gif;base64,R0lGODlhAQABAIAAAP///////yH5BAEKAAEALAAAAAABAAEAAAICTAEAOw==\" style=\"max-width:112px;max-height:112px\"/></div><div class=\"RWuggc kCrYT\"><div><div class=\"BNeawe s3v9rd AP7Wnd\">Boris Johnson</div></div></div></div></div></a>,\n",
       " <a class=\"BVG0Nb\" href=\"/search?ie=UTF-8&amp;q=Rudy+Giuliani&amp;stick=H4sIAAAAAAAAAONgFuLUz9U3SC4ssTRQ4gAxzdLzzLWkspOt9AtS8wtyUoFUUXF-nlVxZkpqeWJl8SJW3qDSlEoF98zSnMzEvEwAG6K6ikMAAAA&amp;sa=X&amp;ved=2ahUKEwjNvKzpr_vmAhUAxzgGHbQ_CMAQ0I4BMBR6BAgLECE\"><div><div style=\"width:112px\"><div class=\"S7Jdze\" style=\"width:112px;height:112px\"><img alt=\"\" class=\"EYOsld\" data-deferred=\"1\" id=\"dimg_29\" src=\"data:image/gif;base64,R0lGODlhAQABAIAAAP///////yH5BAEKAAEALAAAAAABAAEAAAICTAEAOw==\" style=\"max-width:112px;max-height:112px\"/></div><div class=\"RWuggc kCrYT\"><div><div class=\"BNeawe s3v9rd AP7Wnd\">Rudy Giuliani</div></div></div></div></div></a>,\n",
       " <a class=\"BVG0Nb\" href=\"/search?ie=UTF-8&amp;q=Ivanka+Trump&amp;stick=H4sIAAAAAAAAAONgFuLUz9U3SC4ssTRQAjPNDMvTcrWkspOt9AtS8wtyUoFUUXF-nlVxZkpqeWJl8SJWHs-yxLzsRIWQotLcAgByr2wkQwAAAA&amp;sa=X&amp;ved=2ahUKEwjNvKzpr_vmAhUAxzgGHbQ_CMAQ0I4BMBR6BAgLECM\"><div><div style=\"width:112px\"><div class=\"S7Jdze\" style=\"width:112px;height:112px\"><img alt=\"\" class=\"EYOsld\" data-deferred=\"1\" id=\"dimg_31\" src=\"data:image/gif;base64,R0lGODlhAQABAIAAAP///////yH5BAEKAAEALAAAAAABAAEAAAICTAEAOw==\" style=\"max-width:112px;max-height:112px\"/></div><div class=\"RWuggc kCrYT\"><div><div class=\"BNeawe s3v9rd AP7Wnd\">Ivanka Trump</div></div><div><div class=\"BNeawe tAd8D AP7Wnd\">Daughter</div></div></div></div></div></a>,\n",
       " <a class=\"BVG0Nb\" href=\"/search?ie=UTF-8&amp;q=Nancy+Pelosi&amp;stick=H4sIAAAAAAAAAONgFuLUz9U3SC4ssTRQAjMNjcoMS7SkspOt9AtS8wtyUoFUUXF-nlVxZkpqeWJl8SJWHr_EvORKhYDUnPziTAD-5ACUQwAAAA&amp;sa=X&amp;ved=2ahUKEwjNvKzpr_vmAhUAxzgGHbQ_CMAQ0I4BMBR6BAgLECU\"><div><div style=\"width:112px\"><div class=\"S7Jdze\" style=\"width:112px;height:112px\"><img alt=\"\" class=\"EYOsld\" data-deferred=\"1\" id=\"dimg_33\" src=\"data:image/gif;base64,R0lGODlhAQABAIAAAP///////yH5BAEKAAEALAAAAAABAAEAAAICTAEAOw==\" style=\"max-width:112px;max-height:112px\"/></div><div class=\"RWuggc kCrYT\"><div><div class=\"BNeawe s3v9rd AP7Wnd\">Nancy Pelosi</div></div></div></div></div></a>]"
      ]
     },
     "execution_count": 53,
     "metadata": {},
     "output_type": "execute_result"
    }
   ],
   "source": [
    "soup.find_all('a',class_=\"BVG0Nb\")"
   ]
  },
  {
   "cell_type": "code",
   "execution_count": 54,
   "metadata": {},
   "outputs": [
    {
     "name": "stdout",
     "output_type": "stream",
     "text": [
      "/url?q=https://www.ndtv.com/world-news/on-prince-harry-meghan-markle-parting-as-senior-royals-what-donald-trump-said-2162259&sa=U&ved=2ahUKEwjNvKzpr_vmAhUAxzgGHbQ_CMAQ0PADMAB6BAgFEAI&usg=AOvVaw1NXuR_GWRgsX0d50fbbPVU\n",
      "/url?q=https://timesofindia.indiatimes.com/world/us/iran-targeted-4-us-embassies-trump/articleshow/73198354.cms&sa=U&ved=2ahUKEwjNvKzpr_vmAhUAxzgGHbQ_CMAQ0PADMAF6BAgFEAY&usg=AOvVaw17MTgIg539I04cjElF2wqS\n",
      "/url?q=https://www.business-standard.com/article/international/not-enough-for-talks-says-n-korea-after-trump-greets-kim-on-birthday-120011100381_1.html&sa=U&ved=2ahUKEwjNvKzpr_vmAhUAxzgGHbQ_CMAQ0PADMAJ6BAgFEAo&usg=AOvVaw0Kh0PiD7QCa-vHkQl60ll6\n",
      "/url?q=https://www.thehindu.com/news/international/trump-goes-out-of-his-way-to-take-a-bow-again/article30541685.ece&sa=U&ved=2ahUKEwjNvKzpr_vmAhUAxzgGHbQ_CMAQ0PADMAN6BAgFEA4&usg=AOvVaw3UbsFDscPCGWiEo9MOWXbO\n",
      "/url?q=https://www.moneycontrol.com/news/world/us-president-donald-trump-calls-british-royal-family-spat-sad-4806781.html&sa=U&ved=2ahUKEwjNvKzpr_vmAhUAxzgGHbQ_CMAQ0PADMAR6BAgFEBI&usg=AOvVaw11ASGDI6_Mu_m5AjlOTrSU\n",
      "/url?q=https://www.indiatoday.in/world/story/donald-trump-qassem-soleimani-us-iran-1635881-2020-01-11&sa=U&ved=2ahUKEwjNvKzpr_vmAhUAxzgGHbQ_CMAQ0PADMAV6BAgFEBY&usg=AOvVaw36ZthYgVSFB_wWwXwBXLD_\n",
      "/url?q=https://www.amarujala.com/world/america-iran-tension-donald-trump-qassem-soleimani-america-attack-on-iraq&sa=U&ved=2ahUKEwjNvKzpr_vmAhUAxzgGHbQ_CMAQ0PADMAZ6BAgFEBo&usg=AOvVaw1pbpi5kdj6pqOAMvVx11kK\n",
      "/url?q=https://www.thehindu.com/news/international/trump-says-he-believes-soleimani-was-targeting-four-embassies/article30538969.ece&sa=U&ved=2ahUKEwjNvKzpr_vmAhUAxzgGHbQ_CMAQ0PADMAd6BAgFEB4&usg=AOvVaw2W9OLx5_1EEwj0UWb5NrSU\n",
      "/url?q=https://www.livemint.com/news/world/donald-trump-says-china-trade-deal-may-be-signed-shortly-after-january-15-11578633339834.html&sa=U&ved=2ahUKEwjNvKzpr_vmAhUAxzgGHbQ_CMAQ0PADMAh6BAgFECI&usg=AOvVaw0v-jFt1dzI2p0FM0NVYJxN\n",
      "/url?q=https://www.moneycontrol.com/news/world/us-house-passes-resolution-to-limit-donald-trumps-ability-to-wage-war-on-iran-4802911.html&sa=U&ved=2ahUKEwjNvKzpr_vmAhUAxzgGHbQ_CMAQ0PADMAl6BAgFECY&usg=AOvVaw0adCfTyH4E_MJz8fxLylKO\n",
      "/search?ie=UTF-8&q=Barack+Obama&stick=H4sIAAAAAAAAAONgFuLUz9U3SC4ssTRQAjONcrNyi7SkspOt9AtS8wtyUoFUUXF-nlVxZkpqeWJl8SJWHqfEosTkbAX_pMTcRAD3P0NiQwAAAA&sa=X&ved=2ahUKEwjNvKzpr_vmAhUAxzgGHbQ_CMAQ0I4BMBR6BAgLEBs\n",
      "/search?ie=UTF-8&q=Joe+Biden&stick=H4sIAAAAAAAAAONgFuLUz9U3SC4ssTRQAjMNjdIrjLSkspOt9AtS8wtyUoFUUXF-nlVxZkpqeWJl8SJWTq_8VAUnIDcPAOeEbPlAAAAA&sa=X&ved=2ahUKEwjNvKzpr_vmAhUAxzgGHbQ_CMAQ0I4BMBR6BAgLEB0\n",
      "/search?ie=UTF-8&q=Boris+Johnson&stick=H4sIAAAAAAAAAONgFuLUz9U3SC4ssTRQ4gAxM0wNLLSkspOt9AtS8wtyUoFUUXF-nlVxZkpqeWJl8SJWXqf8osxiBa_8jDygBABq502jQwAAAA&sa=X&ved=2ahUKEwjNvKzpr_vmAhUAxzgGHbQ_CMAQ0I4BMBR6BAgLEB8\n",
      "/search?ie=UTF-8&q=Rudy+Giuliani&stick=H4sIAAAAAAAAAONgFuLUz9U3SC4ssTRQ4gAxzdLzzLWkspOt9AtS8wtyUoFUUXF-nlVxZkpqeWJl8SJW3qDSlEoF98zSnMzEvEwAG6K6ikMAAAA&sa=X&ved=2ahUKEwjNvKzpr_vmAhUAxzgGHbQ_CMAQ0I4BMBR6BAgLECE\n",
      "/search?ie=UTF-8&q=Ivanka+Trump&stick=H4sIAAAAAAAAAONgFuLUz9U3SC4ssTRQAjPNDMvTcrWkspOt9AtS8wtyUoFUUXF-nlVxZkpqeWJl8SJWHs-yxLzsRIWQotLcAgByr2wkQwAAAA&sa=X&ved=2ahUKEwjNvKzpr_vmAhUAxzgGHbQ_CMAQ0I4BMBR6BAgLECM\n",
      "/search?ie=UTF-8&q=Nancy+Pelosi&stick=H4sIAAAAAAAAAONgFuLUz9U3SC4ssTRQAjMNjcoMS7SkspOt9AtS8wtyUoFUUXF-nlVxZkpqeWJl8SJWHr_EvORKhYDUnPziTAD-5ACUQwAAAA&sa=X&ved=2ahUKEwjNvKzpr_vmAhUAxzgGHbQ_CMAQ0I4BMBR6BAgLECU\n"
     ]
    }
   ],
   "source": [
    "for link in soup.find_all('a',class_=\"BVG0Nb\"):\n",
    "    print(link.get('href'))"
   ]
  },
  {
   "cell_type": "code",
   "execution_count": null,
   "metadata": {},
   "outputs": [],
   "source": []
  },
  {
   "cell_type": "code",
   "execution_count": null,
   "metadata": {},
   "outputs": [],
   "source": []
  },
  {
   "cell_type": "code",
   "execution_count": 55,
   "metadata": {},
   "outputs": [
    {
     "name": "stdout",
     "output_type": "stream",
     "text": [
      "https://www.bbc.com › news › world-africa-51063149\n",
      "https://edition.cnn.com › asia › north-korea-trump-letter-intl-hnk\n",
      "https://edition.cnn.com › opinions › trump-secret-service-spending-dantonio\n",
      "https://timesofindia.indiatimes.com › topic › Donald-Trump\n",
      "https://economictimes.indiatimes.com › topic › Trump\n",
      "https://en.wikipedia.org › wiki › Donald_Trump\n",
      "https://en.wikipedia.org › wiki › Impeachment_of_Donald_Trump\n",
      "https://www.cnbc.com › donald-trump\n",
      "https://www.indiatoday.in › World\n"
     ]
    }
   ],
   "source": [
    "for link in soup.find_all('div',class_=\"BNeawe UPmit AP7Wnd\"):\n",
    "    print(link.get_text('href'))"
   ]
  },
  {
   "cell_type": "code",
   "execution_count": 59,
   "metadata": {},
   "outputs": [],
   "source": [
    "for link in soup.find_all('div',class_=\"BNeawe UPmit AP7Wnd\"):\n",
    "    actual=link.get_text('href')\n",
    "    webbrowser.open('https://google.com/'+actual[0:20])"
   ]
  },
  {
   "cell_type": "code",
   "execution_count": 60,
   "metadata": {},
   "outputs": [],
   "source": [
    "for link in soup.find_all('a',class_=\"BVG0Nb\"):\n",
    "    actual_link=link.get('href')\n",
    "    webbrowser.open('https://google.com/'+actual)"
   ]
  },
  {
   "cell_type": "code",
   "execution_count": 71,
   "metadata": {},
   "outputs": [
    {
     "name": "stdout",
     "output_type": "stream",
     "text": [
      "[]\n"
     ]
    }
   ],
   "source": [
    "search_results1 = soup.select('.s a')\n",
    "print(search_results1)"
   ]
  },
  {
   "cell_type": "code",
   "execution_count": 75,
   "metadata": {},
   "outputs": [
    {
     "name": "stdout",
     "output_type": "stream",
     "text": [
      "\"I Just Have Such Respect For The Queen\": Trump On Harry, Meghan Quitting\n",
      "Iran targeted 4 US embassies: Trump\n",
      "Not enough for talks, says N Korea after Trump greets Kim on birthday\n",
      "Trump goes out of his way to take a bow, again\n",
      "US President Donald Trump calls British royal family spat 'sad'\n",
      "Donald Trump on Soleimani killing: Iran planned to hit our embassy. Wait, \n",
      "embassies. 4, actually\n",
      "ट्रंप ने सुलेमानी को मारने की वजह का किया खुलासा, बताया क्यों ईरानी जनरल को \n",
      "बनाया निशाना\n",
      "Trump says he believes Soleimani was targeting 'four embassies'\n",
      "Donald Trump says China trade deal may be signed shortly after January 15\n",
      "US House passes resolution to limit Donald Trump's ability to wage war on \n",
      "Iran\n",
      "Donald John Trump is the 45th and current president of the United States. Before entering politics, he was a businessman and television personality.\n",
      "Trump was born and raised in the New York City borough of Queens, and received a bachelor's degree... Wikipedia\n",
      "Donald John Trump is the 45th and current president of the United States. Before entering politics, he was a businessman and television personality.\n",
      "Trump was born and raised in the New York City borough of Queens, and received a bachelor's degree... Wikipedia\n",
      "Born: 14 June 1946 (age 73 years), Jamaica Hospital Medical Center, New York, United States\n",
      "Height: 1.9 m\n",
      "Party: Republican Party\n",
      "Spouse: Melania Trump (m. 2005), Marla Maples (m. 1993–1999) and Ivana Trump (m. 1977–1992)\n",
      "Education: Wharton School of the University of Pennsylvania (1966–1968), Fordham University (1964–1966), New York Military Academy (1964) and more\n",
      "Children: Ivanka Trump, Donald Trump Jr., Barron Trump and more\n",
      "Barack Obama\n",
      "Joe Biden\n",
      "Boris Johnson\n",
      "Rudy Giuliani\n",
      "Ivanka Trump\n",
      "Nancy Pelosi\n",
      "20 hours ago · US President Donald Trump seems to think that he was overlooked for last year's Nobel Peace Prize. Why, what did he say? \"I'm going to tell ...\n",
      "20 hours ago · US President Donald Trump seems to think that he was overlooked for last year's Nobel Peace Prize. Why, what did he say? \"I'm going to tell ...\n",
      "20 minutes ago · North Korea says US 'deceived' Pyongyang on nuclear talks after Trump sends Kim birthday letter. By Joshua Berlinger, CNN. Updated 5:29 ...\n",
      "20 minutes ago · North Korea says US 'deceived' Pyongyang on nuclear talks after Trump sends Kim birthday letter. By Joshua Berlinger, CNN. Updated 5:29 ...\n",
      "11 hours ago · How much has the government spent protecting President Donald Trump and his family on vacations, business travel and golf outings?  Nobody knows for sure -- because Treasury Secretary Steven Mnuchin is fighting requests to disclose the costs until after the 2020 election.\n",
      "11 hours ago · How much has the government spent protecting President Donald Trump and his family on vacations, business travel and golf outings?  Nobody knows for sure -- because Treasury Secretary Steven Mnuchin is fighting requests to disclose the costs until after the 2020 election.\n",
      "Latest Donald Trump News, Photos, Blogposts, Videos and Wallpapers. Explore Donald Trump profile at Times of India.\n",
      "Latest Donald Trump News, Photos, Blogposts, Videos and Wallpapers. Explore Donald Trump profile at Times of India.\n",
      "Trump Latest Breaking News, Pictures, Videos, and Special Reports from The Economic Times. Trump Blogs, Comments and Archive News on ...\n",
      "Trump Latest Breaking News, Pictures, Videos, and Special Reports from The Economic Times. Trump Blogs, Comments and Archive News on ...\n",
      "Donald John Trump (born June 14, 1946) is the 45th and current president of the United States. Before entering politics, he was a businessman and television personality. Trump was born and raised in the New York City borough of Queens, and received a bachelor's degree in economics from the Wharton School.\n",
      "\n",
      "Vice President: Mike Pence\n",
      "Other political affiliations: Democratic (until 1987, 2001–2009); Reform (1999–2001); Independent (2011–2012)\n",
      "Parents: Fred Trump; Mary Anne MacLeod\n",
      "Net worth: US$3.1 billion (March 2019)\n",
      "Donald John Trump (born June 14, 1946) is the 45th and current president of the United States. Before entering politics, he was a businessman and television personality. Trump was born and raised in the New York City borough of Queens, and received a bachelor's degree in economics from the Wharton School.\n",
      "\n",
      "Vice President: Mike Pence\n",
      "Other political affiliations: Democratic (until 1987, 2001–2009); Reform (1999–2001); Independent (2011–2012)\n",
      "Parents: Fred Trump; Mary Anne MacLeod\n",
      "Net worth: US$3.1 billion (March 2019)\n",
      "The impeachment of Donald Trump, the 45th president of the United States, occurred on December 18, 2019, when the House of Representatives approved ...\n",
      "The impeachment of Donald Trump, the 45th president of the United States, occurred on December 18, 2019, when the House of Representatives approved ...\n",
      "The expanded ban could cover several countries, like Iraq, Sudan and Chad, that were included when Trump announced the first iteration of the ban by ...\n",
      "The expanded ban could cover several countries, like Iraq, Sudan and Chad, that were included when Trump announced the first iteration of the ban by ...\n",
      "7 hours ago · US President Donald Trump's public remarks on the reason for a deadly, Jan. 3 drone strike that plunged the region into crisis have varied ...\n",
      "7 hours ago · US President Donald Trump's public remarks on the reason for a deadly, Jan. 3 drone strike that plunged the region into crisis have varied ...\n"
     ]
    }
   ],
   "source": [
    "for link in soup.find_all('div',class_=\"BNeawe s3v9rd AP7Wnd\"):\n",
    "    actual=link.get_text()\n",
    "    print(actual)"
   ]
  },
  {
   "cell_type": "code",
   "execution_count": null,
   "metadata": {},
   "outputs": [],
   "source": []
  }
 ],
 "metadata": {
  "kernelspec": {
   "display_name": "Python 3",
   "language": "python",
   "name": "python3"
  },
  "language_info": {
   "codemirror_mode": {
    "name": "ipython",
    "version": 3
   },
   "file_extension": ".py",
   "mimetype": "text/x-python",
   "name": "python",
   "nbconvert_exporter": "python",
   "pygments_lexer": "ipython3",
   "version": "3.7.1"
  }
 },
 "nbformat": 4,
 "nbformat_minor": 2
}
